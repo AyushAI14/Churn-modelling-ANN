{
  "nbformat": 4,
  "nbformat_minor": 0,
  "metadata": {
    "colab": {
      "provenance": []
    },
    "kernelspec": {
      "name": "python3",
      "display_name": "Python 3"
    },
    "language_info": {
      "name": "python"
    }
  },
  "cells": [
    {
      "cell_type": "code",
      "source": [
        "import pandas as pd\n",
        "from sklearn.model_selection import train_test_split\n",
        "from sklearn.preprocessing import StandardScaler,LabelEncoder\n",
        "import joblib"
      ],
      "metadata": {
        "id": "yYTEm4s_3UzP"
      },
      "execution_count": null,
      "outputs": []
    },
    {
      "cell_type": "code",
      "execution_count": null,
      "metadata": {
        "id": "O_dHzYyWSEU_"
      },
      "outputs": [],
      "source": [
        "url = 'https://raw.githubusercontent.com/AyushAI14/Test-dataset/refs/heads/main/Churn_Modelling.csv'\n",
        "df = pd.read_csv(url)"
      ]
    },
    {
      "cell_type": "code",
      "source": [
        "df"
      ],
      "metadata": {
        "id": "j8FIiMwo-5lf"
      },
      "execution_count": null,
      "outputs": []
    },
    {
      "cell_type": "markdown",
      "source": [
        "# Preprocessing"
      ],
      "metadata": {
        "id": "2QP9mBkj-tE7"
      }
    },
    {
      "cell_type": "code",
      "source": [
        "# droping columns\n",
        "df = df.drop(['RowNumber','CustomerId','Surname'],axis=1)\n",
        "df"
      ],
      "metadata": {
        "id": "rFufDlZF-voR"
      },
      "execution_count": null,
      "outputs": []
    },
    {
      "cell_type": "code",
      "source": [
        "# df.isnull().sum()\n",
        "import  seaborn as sns\n",
        "import matplotlib.pyplot as plt\n",
        "\n",
        "for i in df.columns:\n",
        "  if i != 'Exited':\n",
        "    sns.scatterplot(df,x=i,y='Exited')\n",
        "    plt.show()"
      ],
      "metadata": {
        "id": "Id9JszW4_Pr1"
      },
      "execution_count": null,
      "outputs": []
    },
    {
      "cell_type": "code",
      "source": [
        "df.query('Age > 85')"
      ],
      "metadata": {
        "id": "vfhUkdkm_ZOV"
      },
      "execution_count": null,
      "outputs": []
    },
    {
      "cell_type": "code",
      "source": [
        "df.drop([2458,6443,6759],inplace=True)"
      ],
      "metadata": {
        "id": "tkBx3WzFEkyB"
      },
      "execution_count": null,
      "outputs": []
    },
    {
      "cell_type": "code",
      "source": [
        "df.shape\n",
        "df"
      ],
      "metadata": {
        "id": "tmBCrt2PFAwF"
      },
      "execution_count": null,
      "outputs": []
    },
    {
      "cell_type": "code",
      "source": [
        "# Ecoding the catatogical var\n",
        "encoder = LabelEncoder()\n",
        "df['Gender']=encoder.fit_transform(df['Gender'])\n",
        "\n",
        "\n",
        "df = pd.get_dummies(df, columns=['Geography'],dtype=int)\n",
        "\n"
      ],
      "metadata": {
        "id": "TVoIBjhZFCT2"
      },
      "execution_count": null,
      "outputs": []
    },
    {
      "cell_type": "code",
      "source": [
        "df"
      ],
      "metadata": {
        "id": "naeLr6R2FHfQ"
      },
      "execution_count": null,
      "outputs": []
    },
    {
      "cell_type": "code",
      "source": [
        "X = df.drop('Exited',axis=1)\n",
        "y = df.Exited\n",
        "X_train,X_test,y_train,y_test = train_test_split(X,y,test_size=.3,random_state=42)"
      ],
      "metadata": {
        "id": "U31IAJzWFepp"
      },
      "execution_count": null,
      "outputs": []
    },
    {
      "cell_type": "code",
      "source": [
        "scaler = StandardScaler()\n",
        "X_train = scaler.fit_transform(X_train)\n",
        "X_test = scaler.transform(X_test)"
      ],
      "metadata": {
        "id": "6TWgaT55FzVt"
      },
      "execution_count": null,
      "outputs": []
    },
    {
      "cell_type": "code",
      "source": [
        "pd.DataFrame(X_train)"
      ],
      "metadata": {
        "id": "w8FNUwRRGV6y"
      },
      "execution_count": null,
      "outputs": []
    },
    {
      "cell_type": "code",
      "source": [],
      "metadata": {
        "id": "8M1lP_OTGnW5"
      },
      "execution_count": null,
      "outputs": []
    },
    {
      "cell_type": "markdown",
      "source": [
        "# ANN Implementation"
      ],
      "metadata": {
        "id": "oJXLac4tK_P-"
      }
    },
    {
      "cell_type": "code",
      "source": [
        "import tensorflow as tf\n",
        "from tensorflow.keras.models import Sequential\n",
        "from tensorflow.keras.layers import Dense\n",
        "from tensorflow.keras.callbacks import TensorBoard,EarlyStopping\n",
        "import datetime\n",
        "\n"
      ],
      "metadata": {
        "id": "7GQSWOfqLDCZ"
      },
      "execution_count": null,
      "outputs": []
    },
    {
      "cell_type": "code",
      "source": [
        "clf = Sequential([\n",
        "  Dense(units=64,activation='relu',input_shape=(X_train.shape[1],)),#h1\n",
        "  Dense(units=32,activation='relu'),#h2\n",
        "  Dense(units=1,activation='sigmoid'),#h2\n",
        "   ]\n",
        ")"
      ],
      "metadata": {
        "id": "7ImgiQI1Np4r"
      },
      "execution_count": null,
      "outputs": []
    },
    {
      "cell_type": "code",
      "source": [
        " clf.summary()"
      ],
      "metadata": {
        "id": "8yZuCOldPAso"
      },
      "execution_count": null,
      "outputs": []
    },
    {
      "cell_type": "code",
      "source": [
        "clf.compile(optimizer='adam',loss='binary_crossentropy',metrics=['accuracy'])"
      ],
      "metadata": {
        "id": "nTRuFYVOPPzY"
      },
      "execution_count": null,
      "outputs": []
    },
    {
      "cell_type": "code",
      "source": [
        "## setting up tensorboard\n",
        "log_dir = 'logs/fit'\n",
        "tensorflow_callback = TensorBoard(log_dir=log_dir,histogram_freq=1)"
      ],
      "metadata": {
        "id": "YH0-StFJP94a"
      },
      "execution_count": null,
      "outputs": []
    },
    {
      "cell_type": "code",
      "source": [
        "ear_stop = EarlyStopping(monitor='val_loss', patience=10)"
      ],
      "metadata": {
        "id": "OgxQs8EUTLxy"
      },
      "execution_count": null,
      "outputs": []
    },
    {
      "cell_type": "code",
      "source": [
        "model = clf.fit(X_train,y_train,validation_data=(X_test,y_test),callbacks=[tensorflow_callback,ear_stop],epochs=100)"
      ],
      "metadata": {
        "id": "ukh_gEPmTUty"
      },
      "execution_count": null,
      "outputs": []
    },
    {
      "cell_type": "code",
      "source": [
        "clf.save('model_1.h5')"
      ],
      "metadata": {
        "id": "wI1ChO9_TsYM"
      },
      "execution_count": null,
      "outputs": []
    },
    {
      "cell_type": "code",
      "source": [
        "%load_ext tensorboard"
      ],
      "metadata": {
        "id": "Oz9YoxkYTy6a"
      },
      "execution_count": null,
      "outputs": []
    },
    {
      "cell_type": "code",
      "source": [
        "%tensorboard --logdir /content/logs/fit"
      ],
      "metadata": {
        "id": "-eLdGEClT7FO"
      },
      "execution_count": null,
      "outputs": []
    },
    {
      "cell_type": "code",
      "source": [],
      "metadata": {
        "id": "yz_8aH0wVdOc"
      },
      "execution_count": null,
      "outputs": []
    }
  ]
}